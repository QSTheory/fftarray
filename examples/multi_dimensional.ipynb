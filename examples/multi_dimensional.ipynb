{
 "cells": [
  {
   "cell_type": "markdown",
   "metadata": {},
   "source": [
    "# Multi-dimensional FFT"
   ]
  },
  {
   "cell_type": "code",
   "execution_count": null,
   "metadata": {},
   "outputs": [],
   "source": [
    "import numpy as np\n",
    "from bokeh.io import output_notebook\n",
    "\n",
    "import fftarray as fa\n",
    "from examples.helpers import plt_fftarray\n",
    "\n",
    "output_notebook()\n",
    "\n",
    "def gauss_pos(x, a, sigma):\n",
    "    return (a * np.exp(-(x**2/(2.* sigma**2))))/(np.sqrt(2 * np.pi) * sigma)\n",
    "\n",
    "def gauss_freq(f, a, sigma):\n",
    "    return (a * np.exp(-(1/2)*(2*np.pi*f)**2*sigma**2))"
   ]
  },
  {
   "attachments": {},
   "cell_type": "markdown",
   "metadata": {},
   "source": [
    "Define two `FFTDimension` objects with different names \"x\" and \"y\"."
   ]
  },
  {
   "cell_type": "code",
   "execution_count": null,
   "metadata": {},
   "outputs": [],
   "source": [
    "x_dim = fa.dim_from_constraints(\n",
    "        name=\"x\",\n",
    "        pos_middle=1.,\n",
    "        pos_extent = 10.,\n",
    "        freq_middle = 2.5/(2*np.pi),\n",
    "        freq_extent = 20./(2*np.pi),\n",
    "        loose_params=[\"pos_extent\", \"freq_extent\"]\n",
    "    )\n",
    "\n",
    "y_dim = fa.dim_from_constraints(\n",
    "        name=\"y\",\n",
    "        pos_middle=0.,\n",
    "        pos_extent = 5.,\n",
    "        freq_middle = 0,\n",
    "        n=64,\n",
    "    )\n",
    "\n",
    "x_dim_fftarray = fa.array_from_dim(x_dim, \"pos\")\n",
    "y_dim_fftarray = fa.array_from_dim(y_dim, \"pos\")\n",
    "\n",
    "plt_fftarray(x_dim_fftarray, data_name=\"FFTArray with x_dim\")\n",
    "plt_fftarray(y_dim_fftarray, data_name=\"FFTArray with y_dim\")"
   ]
  },
  {
   "cell_type": "markdown",
   "metadata": {},
   "source": [
    "While one `FFTDimension` object always reflects the properties of exactly one dimension (here: \"x\" or \"y\"), an `FFTArray` object can also be multi-dimensional.\n",
    "\n",
    "We can create a multi-dimensional `FFTArray` object by a mathematical operation between `FFTArray` objects with different `FFTDimension`s, i.e., different names.\n",
    "Here, we will add two different `FFTArray`s which are combined by broadcasting along different dimensions."
   ]
  },
  {
   "cell_type": "code",
   "execution_count": null,
   "metadata": {},
   "outputs": [],
   "source": [
    "# FFTArray objects are broadcasted along different dimensions\n",
    "fftarray_2d = x_dim_fftarray + y_dim_fftarray\n",
    "# You can also combine FFTArray objects with only partially shared dimensions\n",
    "fftarray_still_2d = fftarray_2d + x_dim_fftarray\n",
    "\n",
    "print(\"2d FFTArray dimensions:\", fftarray_2d.dims_dict)\n",
    "print(\"Dimension check:\", fftarray_2d.dims_dict == fftarray_still_2d.dims_dict)"
   ]
  },
  {
   "cell_type": "markdown",
   "metadata": {},
   "source": [
    "A 2d `FFTArray` can be transformed between position and frequency space in each dimension, separately.\n",
    "Here, we choose to represent the FFTArray in always the same space for both dimension. Below, we show its complex values along all points in the 2d \"xy\" space."
   ]
  },
  {
   "cell_type": "code",
   "execution_count": null,
   "metadata": {},
   "outputs": [],
   "source": [
    "plt_fftarray(fftarray_2d, data_name=\"2d FFTArray\")"
   ]
  }
 ],
 "metadata": {
  "kernelspec": {
   "display_name": "base",
   "language": "python",
   "name": "python3"
  },
  "language_info": {
   "codemirror_mode": {
    "name": "ipython",
    "version": 3
   },
   "file_extension": ".py",
   "mimetype": "text/x-python",
   "name": "python",
   "nbconvert_exporter": "python",
   "pygments_lexer": "ipython3",
   "version": "3.10.13"
  },
  "orig_nbformat": 4,
  "vscode": {
   "interpreter": {
    "hash": "77b60de724cd56e5333334a06ed3a5e18b3026c8349f95c7badc7f1caa70835a"
   }
  }
 },
 "nbformat": 4,
 "nbformat_minor": 2
}
