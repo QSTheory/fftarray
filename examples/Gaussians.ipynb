{
 "cells": [
  {
   "cell_type": "markdown",
   "metadata": {},
   "source": [
    "# Fourier transform of a Gaussian function"
   ]
  },
  {
   "cell_type": "code",
   "execution_count": null,
   "metadata": {},
   "outputs": [],
   "source": [
    "import numpy as np\n",
    "from bokeh.io import output_notebook\n",
    "\n",
    "from fftarray import shift_frequency, shift_position\n",
    "from fftarray.fft_constraint_solver import fft_dim_from_constraints\n",
    "from fftarray.backends.np_backend import NumpyTensorLib\n",
    "from examples.helpers import plt_fftarray\n",
    "\n",
    "output_notebook()\n",
    "\n",
    "def gauss_pos(x, a, sigma):\n",
    "    return (a * np.exp(-(x**2/(2.* sigma**2))))/(np.sqrt(2 * np.pi) * sigma)\n",
    "\n",
    "def gauss_freq(f, a, sigma):\n",
    "    return (a * np.exp(-(1/2)*(2*np.pi*f)**2*sigma**2))"
   ]
  },
  {
   "attachments": {},
   "cell_type": "markdown",
   "metadata": {},
   "source": [
    "Initialize the dimension and get the basic x and f arrays."
   ]
  },
  {
   "cell_type": "code",
   "execution_count": null,
   "metadata": {},
   "outputs": [],
   "source": [
    "dim = fft_dim_from_constraints(\"x\",\n",
    "        pos_middle=1.,\n",
    "        pos_extent = 10.,\n",
    "        freq_middle = 2.5/(2*np.pi),\n",
    "        freq_extent = 20./(2*np.pi),\n",
    "        loose_params=[\"pos_extent\", \"freq_extent\"]\n",
    "    )\n",
    "\n",
    "\n",
    "x = dim.fft_array(NumpyTensorLib(), space=\"pos\")\n",
    "f = dim.fft_array(NumpyTensorLib(), space=\"freq\")\n",
    "\n",
    "plt_fftarray(x, data_name=\"FFTArray (identity in pos space)\")\n",
    "plt_fftarray(f, data_name=\"FFTArray (identity in freq space)\")"
   ]
  },
  {
   "cell_type": "markdown",
   "metadata": {},
   "source": []
  },
  {
   "cell_type": "code",
   "execution_count": null,
   "metadata": {},
   "outputs": [],
   "source": [
    "gauss_from_pos = gauss_pos(a = 1.2, x = x, sigma = 0.7)\n",
    "gauss_from_freq = gauss_freq(a = 1.2, f = f, sigma = 0.7)\n",
    "\n",
    "np.testing.assert_array_almost_equal(gauss_from_pos, gauss_from_freq.into(space=\"pos\"))\n",
    "np.testing.assert_array_almost_equal(gauss_from_freq, gauss_from_pos.into(space=\"freq\"))\n",
    "\n",
    "plt_fftarray(gauss_from_pos, data_name=\"Gauss (initialised with position)\")\n",
    "plt_fftarray(gauss_from_freq, data_name=\"Gauss (initialised with frequency)\")"
   ]
  },
  {
   "attachments": {},
   "cell_type": "markdown",
   "metadata": {},
   "source": [
    "Just compute a centered Gaussian in position and frequency space.\n",
    "It does not matter where it is defined, the result is the same (up to numerical inaccuracies)."
   ]
  },
  {
   "cell_type": "code",
   "execution_count": null,
   "metadata": {},
   "outputs": [],
   "source": [
    "gauss_from_pos = shift_frequency(gauss_pos(a = 1.2, x = x, sigma = 0.7), {\"x\": 0.9})\n",
    "gauss_from_freq = gauss_freq(a = 1.2, f = f - 0.9, sigma = 0.7)\n",
    "\n",
    "np.testing.assert_array_almost_equal(gauss_from_pos, gauss_from_freq.into(space=\"pos\"))\n",
    "np.testing.assert_array_almost_equal(gauss_from_freq, gauss_from_pos.into(space=\"freq\"))\n",
    "\n",
    "plt_fftarray(gauss_from_pos, data_name=\"Gauss (freq. shifted via FFT)\")\n",
    "plt_fftarray(gauss_from_freq, data_name=\"Gauss (freq. shifted at init)\")"
   ]
  },
  {
   "attachments": {},
   "cell_type": "markdown",
   "metadata": {},
   "source": [
    "Now test with a Gauss shifted in position space. The `shift_position` function multiplies a phase factor unto the `FFTArray` in frequency space to achieve a user.defined shift."
   ]
  },
  {
   "cell_type": "code",
   "execution_count": null,
   "metadata": {},
   "outputs": [],
   "source": [
    "gauss_from_pos = gauss_pos(a = 1.2, x = x - 0.9, sigma = 0.7)\n",
    "gauss_from_freq = shift_position(gauss_freq(a = 1.2, f = f, sigma = 0.7), {\"x\": 0.9})\n",
    "\n",
    "np.testing.assert_array_almost_equal(gauss_from_pos, gauss_from_freq.into(space=\"pos\"))\n",
    "np.testing.assert_array_almost_equal(gauss_from_freq, gauss_from_pos.into(space=\"freq\"))\n",
    "\n",
    "plt_fftarray(gauss_from_pos, data_name=\"Gauss (pos. shifted at init)\")\n",
    "plt_fftarray(gauss_from_freq, data_name=\"Gauss (pos. shifted via FFT)\")"
   ]
  },
  {
   "cell_type": "code",
   "execution_count": null,
   "metadata": {},
   "outputs": [],
   "source": []
  }
 ],
 "metadata": {
  "kernelspec": {
   "display_name": "base",
   "language": "python",
   "name": "python3"
  },
  "language_info": {
   "codemirror_mode": {
    "name": "ipython",
    "version": 3
   },
   "file_extension": ".py",
   "mimetype": "text/x-python",
   "name": "python",
   "nbconvert_exporter": "python",
   "pygments_lexer": "ipython3",
   "version": "3.9.15"
  },
  "orig_nbformat": 4,
  "vscode": {
   "interpreter": {
    "hash": "77b60de724cd56e5333334a06ed3a5e18b3026c8349f95c7badc7f1caa70835a"
   }
  }
 },
 "nbformat": 4,
 "nbformat_minor": 2
}
