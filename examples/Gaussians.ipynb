{
 "cells": [
  {
   "cell_type": "code",
   "execution_count": null,
   "metadata": {},
   "outputs": [],
   "source": [
    "from fftarray import FFTDimension, PosArray, FreqArray, shift_frequency, shift_position\n",
    "from fftarray.plot.bokeh import plt_fft\n",
    "import numpy as np\n",
    "from bokeh.plotting import show\n",
    "from bokeh.io import output_notebook\n",
    "output_notebook()\n",
    "\n",
    "def gauss_pos(x: PosArray, a, sigma_pos) -> PosArray:\n",
    "    return a * np.exp(-0.5 * x**2 / sigma_pos**2) / (np.sqrt(2 * np.pi) * sigma_pos)\n",
    "\n",
    "def gauss_freq(f: FreqArray, a, sigma_pos) -> FreqArray:\n",
    "    return a * np.exp(-0.5 * (2*np.pi*f)**2 * sigma_pos**2)"
   ]
  },
  {
   "attachments": {},
   "cell_type": "markdown",
   "metadata": {},
   "source": [
    "Initialize the dimension and get the basic x and f arrays."
   ]
  },
  {
   "cell_type": "code",
   "execution_count": null,
   "metadata": {},
   "outputs": [],
   "source": [
    "dim = FFTDimension(\"x\",\n",
    "        pos_middle=1.,\n",
    "        pos_extent=10.,\n",
    "        freq_middle=2.5/(2*np.pi),\n",
    "        freq_extent=20./(2*np.pi),\n",
    "        loose_params=[\"pos_extent\", \"freq_extent\"]\n",
    "    )\n",
    "\n",
    "x: PosArray = dim.pos_array()\n",
    "f: FreqArray = dim.freq_array()\n",
    "\n",
    "show(plt_fft(x))\n",
    "show(plt_fft(f))"
   ]
  },
  {
   "cell_type": "code",
   "execution_count": null,
   "metadata": {},
   "outputs": [],
   "source": [
    "gauss_from_pos: PosArray = gauss_pos(x = x, a = 1.2, sigma_pos = 0.7)\n",
    "gauss_from_freq: FreqArray = gauss_freq(f = f, a = 1.2, sigma_pos = 0.7)\n",
    "\n",
    "np.testing.assert_array_almost_equal(gauss_from_pos, gauss_from_freq.pos_array())\n",
    "np.testing.assert_array_almost_equal(gauss_from_freq, gauss_from_pos.freq_array())\n",
    "\n",
    "# TODO Plot titles?\n",
    "show(plt_fft(gauss_from_pos))\n",
    "show(plt_fft(gauss_from_freq))"
   ]
  },
  {
   "attachments": {},
   "cell_type": "markdown",
   "metadata": {},
   "source": [
    "Just compute a centered Gaussian in position and frequency space.\n",
    "It does not matter where it is defined, the result is the same (up to numerical inaccuracies)."
   ]
  },
  {
   "cell_type": "code",
   "execution_count": null,
   "metadata": {},
   "outputs": [],
   "source": [
    "freq_shift = 0.9\n",
    "gauss_from_pos: PosArray = shift_frequency(gauss_pos(x = x, a = 1.2, sigma_pos = 0.7), {\"x\": freq_shift})\n",
    "gauss_from_freq: FreqArray = gauss_freq(f = f - freq_shift, a = 1.2, sigma_pos = 0.7)\n",
    "\n",
    "np.testing.assert_array_almost_equal(gauss_from_pos, gauss_from_freq.pos_array())\n",
    "np.testing.assert_array_almost_equal(gauss_from_freq, gauss_from_pos.freq_array())\n",
    "\n",
    "show(plt_fft(gauss_from_pos))\n",
    "show(plt_fft(gauss_from_freq))"
   ]
  },
  {
   "cell_type": "markdown",
   "metadata": {},
   "source": [
    "Now test with a Gaussian shifted in position space. The `shift_position` function multiplies a phase factor unto the `FFTArray` in frequency space to achieve a user.defined shift."
   ]
  },
  {
   "cell_type": "code",
   "execution_count": null,
   "metadata": {},
   "outputs": [],
   "source": [
    "pos_shift = 0.9\n",
    "gauss_from_pos: PosArray = gauss_pos(a = 1.2, x = x - pos_shift, sigma_pos = 0.7)\n",
    "gauss_from_freq: FreqArray = shift_position(gauss_freq(a = 1.2, f = f, sigma_pos = 0.7), {\"x\": pos_shift})\n",
    "\n",
    "np.testing.assert_array_almost_equal(gauss_from_pos, gauss_from_freq.pos_array())\n",
    "np.testing.assert_array_almost_equal(gauss_from_freq, gauss_from_pos.freq_array())\n",
    "\n",
    "show(plt_fft(gauss_from_pos))\n",
    "show(plt_fft(gauss_from_freq))"
   ]
  }
 ],
 "metadata": {
  "kernelspec": {
   "display_name": "base",
   "language": "python",
   "name": "python3"
  },
  "language_info": {
   "codemirror_mode": {
    "name": "ipython",
    "version": 3
   },
   "file_extension": ".py",
   "mimetype": "text/x-python",
   "name": "python",
   "nbconvert_exporter": "python",
   "pygments_lexer": "ipython3",
   "version": "3.9.15"
  },
  "orig_nbformat": 4,
  "vscode": {
   "interpreter": {
    "hash": "77b60de724cd56e5333334a06ed3a5e18b3026c8349f95c7badc7f1caa70835a"
   }
  }
 },
 "nbformat": 4,
 "nbformat_minor": 2
}
