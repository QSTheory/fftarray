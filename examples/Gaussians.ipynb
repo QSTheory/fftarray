{
 "cells": [
  {
   "cell_type": "markdown",
   "metadata": {},
   "source": [
    "# Fourier transform of a Gaussian function"
   ]
  },
  {
   "cell_type": "code",
   "execution_count": null,
   "metadata": {},
   "outputs": [],
   "source": [
    "import numpy as np\n",
    "from bokeh.io import output_notebook\n",
    "\n",
    "import fftarray as fa\n",
    "from examples.helpers import plt_fftarray\n",
    "\n",
    "output_notebook()\n",
    "\n",
    "def gauss_pos(x, a, sigma):\n",
    "    return (a * fa.exp(-(x**2/(2.* sigma**2))))/(np.sqrt(2 * np.pi) * sigma)\n",
    "\n",
    "def gauss_freq(f, a, sigma):\n",
    "    return (a * fa.exp(-(1/2)*(2*np.pi*f)**2*sigma**2))"
   ]
  },
  {
   "attachments": {},
   "cell_type": "markdown",
   "metadata": {},
   "source": [
    "Initialize the dimension and get the basic x and f arrays."
   ]
  },
  {
   "cell_type": "code",
   "execution_count": null,
   "metadata": {},
   "outputs": [],
   "source": [
    "dim = fa.dim_from_constraints(\"x\",\n",
    "        pos_middle=1.,\n",
    "        pos_extent = 10.,\n",
    "        freq_middle = 2.5/(2*np.pi),\n",
    "        freq_extent = 20./(2*np.pi),\n",
    "        loose_params=[\"pos_extent\", \"freq_extent\"]\n",
    "    )\n",
    "\n",
    "\n",
    "x = fa.coords_from_dim(dim, \"pos\")\n",
    "f = fa.coords_from_dim(dim, \"freq\")\n",
    "\n",
    "plt_fftarray(x, data_name=\"FFTArray (identity in pos space)\")\n",
    "plt_fftarray(f, data_name=\"FFTArray (identity in freq space)\")"
   ]
  },
  {
   "cell_type": "markdown",
   "metadata": {},
   "source": []
  },
  {
   "cell_type": "code",
   "execution_count": null,
   "metadata": {
    "vscode": {
     "languageId": "markdown"
    }
   },
   "outputs": [],
   "source": [
    "gauss_from_pos = gauss_pos(a = 1.2, x = x, sigma = 0.7)\n",
    "gauss_from_freq = gauss_freq(a = 1.2, f = f, sigma = 0.7)\n",
    "\n",
    "np.testing.assert_array_almost_equal(gauss_from_pos.np_array(\"pos\"), gauss_from_freq.np_array(\"pos\"))\n",
    "np.testing.assert_array_almost_equal(gauss_from_freq.np_array(\"freq\"), gauss_from_pos.np_array(\"freq\"))\n",
    "\n",
    "plt_fftarray(gauss_from_pos, data_name=\"Gauss (initialised with position)\")\n",
    "plt_fftarray(gauss_from_freq, data_name=\"Gauss (initialised with frequency)\")"
   ]
  },
  {
   "attachments": {},
   "cell_type": "markdown",
   "metadata": {},
   "source": [
    "Just compute a centered Gaussian in position and frequency space.\n",
    "It does not matter where it is defined, the result is the same (up to numerical inaccuracies)."
   ]
  },
  {
   "cell_type": "code",
   "execution_count": null,
   "metadata": {},
   "outputs": [],
   "source": [
    "gauss_from_pos = fa.shift_freq(gauss_pos(a = 1.2, x = x, sigma = 0.7), {\"x\": 0.9})\n",
    "gauss_from_freq = gauss_freq(a = 1.2, f = f - 0.9, sigma = 0.7)\n",
    "\n",
    "np.testing.assert_array_almost_equal(gauss_from_pos.np_array(\"pos\"), gauss_from_freq.np_array(\"pos\"))\n",
    "np.testing.assert_array_almost_equal(gauss_from_freq.np_array(\"freq\"), gauss_from_pos.np_array(\"freq\"))\n",
    "\n",
    "plt_fftarray(gauss_from_pos, data_name=\"Gauss (freq. shifted via FFT)\")\n",
    "plt_fftarray(gauss_from_freq, data_name=\"Gauss (freq. shifted at init)\")"
   ]
  },
  {
   "attachments": {},
   "cell_type": "markdown",
   "metadata": {},
   "source": [
    "Now test with a Gauss shifted in position space. The `shift_position` function multiplies a phase factor unto the `FFTArray` in frequency space to achieve a user.defined shift."
   ]
  },
  {
   "cell_type": "code",
   "execution_count": null,
   "metadata": {},
   "outputs": [],
   "source": [
    "gauss_from_pos = gauss_pos(a = 1.2, x = x - 0.9, sigma = 0.7)\n",
    "gauss_from_freq = fa.shift_pos(gauss_freq(a = 1.2, f = f, sigma = 0.7), {\"x\": 0.9})\n",
    "\n",
    "np.testing.assert_array_almost_equal(gauss_from_pos.np_array(\"pos\"), gauss_from_freq.np_array(\"pos\"))\n",
    "np.testing.assert_array_almost_equal(gauss_from_freq.np_array(\"freq\"), gauss_from_pos.np_array(\"freq\"))\n",
    "\n",
    "plt_fftarray(gauss_from_pos, data_name=\"Gauss (pos. shifted at init)\")\n",
    "plt_fftarray(gauss_from_freq, data_name=\"Gauss (pos. shifted via FFT)\")"
   ]
  },
  {
   "cell_type": "code",
   "execution_count": null,
   "metadata": {},
   "outputs": [],
   "source": []
  }
 ],
 "metadata": {
  "kernelspec": {
   "display_name": "dev",
   "language": "python",
   "name": "python3"
  },
  "language_info": {
   "codemirror_mode": {
    "name": "ipython",
    "version": 3
   },
   "file_extension": ".py",
   "mimetype": "text/x-python",
   "name": "python",
   "nbconvert_exporter": "python",
   "pygments_lexer": "ipython3",
   "version": "3.13.1"
  },
  "orig_nbformat": 4
 },
 "nbformat": 4,
 "nbformat_minor": 2
}
