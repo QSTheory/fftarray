{
 "cells": [
  {
   "cell_type": "markdown",
   "metadata": {},
   "source": [
    "# Taking the derivative by FFT\n",
    "Suppose $g(x)$ is an absolutely continuous differentiable function, and both $g$ and its derivative $g′$ are integrable. Then, the Fourier transform of the derivative is given by (__[Wikipedia](https://en.wikipedia.org/wiki/Fourier_transform#Differentiation)__):\n",
    "\\begin{equation}\n",
    "\\mathcal{F}\\left\\{ \\frac{d}{dx} g(x)\\right\\} = i 2\\pi \\xi \\ \\hat{g}(\\xi).\n",
    "\\end{equation}\n",
    "Note that the differential operator transformed into a multiplication.\n",
    "\n",
    "This in principle allows to compute the derivative of any function $g(x)$ by first computing its Fourier transformation and then inversely transforming the product: \n",
    "\\begin{equation}\n",
    "\\frac{d^n}{d^n x} g(x) = \\mathcal{F^{-1}}{ \\left( \\mathcal{F}{ \\left( \\frac{d^n}{d^n x} g(x) \\right)} \\right)}  = \\mathcal{F^{-1}}{ \\left( (i 2\\pi \\xi)^n \\ \\hat{g}(\\xi) \\right)}.\n",
    "\\end{equation}\n",
    "\n",
    "For analytic functions this is often only of limited helpfulness since you need to solve two integrals.\n",
    "However, for a numerically sampled function we can just use the FFT.\n",
    "\n",
    "<b>Tip:</b> It should be noted, that this is only feasable to use numerically when $g(x) \\rightarrow 0$ as $x$ approaches the boundary of the coordinate grid."
   ]
  },
  {
   "cell_type": "markdown",
   "metadata": {},
   "source": [
    "## Implementation"
   ]
  },
  {
   "cell_type": "code",
   "execution_count": null,
   "metadata": {},
   "outputs": [],
   "source": [
    "import numpy as np\n",
    "from bokeh.io import output_notebook\n",
    "output_notebook()\n",
    "\n",
    "# test function in position space\n",
    "f1_x = lambda x, a: np.cos(x)/np.exp((-a + x)**2/25.)\n",
    "# first derivative of the test function\n",
    "f1_x_d1 = lambda x, a: (-2*(-a + x)*np.cos(x))/(25.*np.exp((-a + x)**2/25.)) - np.sin(x)/np.exp((-a + x)**2/25.)\n",
    "# second derivative of the test function\n",
    "f1_x_d2 = lambda x, a: -(np.cos(x)/np.exp((-a + x)**2/25.)) + (-2/(25.*np.exp((-a + x)**2/25.)) + (4*(-a + x)**2)/(625.*np.exp((-a + x)**2/25.)))*np.cos(x) + (4*(-a + x)*np.sin(x))/(25.*np.exp((-a + x)**2/25.))\n",
    "# test function in frequency space\n",
    "f1_k = lambda k, a: (5*np.exp(1.j*a*(-1 + k) - (25*(1 + k)**2)/4.)*(np.exp(2*1.j*a) + np.exp(25*k)))/(2.*np.sqrt(2))"
   ]
  },
  {
   "cell_type": "markdown",
   "metadata": {},
   "source": [
    "### Initialize the test function\n",
    "First, let's sample the function:"
   ]
  },
  {
   "cell_type": "code",
   "execution_count": null,
   "metadata": {},
   "outputs": [],
   "source": [
    "from fftarray import FFTArray, FFTDimension\n",
    "from fftarray.constraint_solver import get_fft_dim_from_constraints\n",
    "\n",
    "from examples.helpers import plt_fftarray, plt_complex_comparison\n",
    "\n",
    "# initialize the backend and the coordinate grid\n",
    "x_dim = get_fft_dim_from_constraints(\"x\", pos_middle=1., pos_extent=80, n=2048, freq_middle=0.)\n",
    "\n",
    "# get FFTArray from FFTDimension in position space\n",
    "x=x_dim.fft_array(space=\"pos\")\n",
    "# numerically sampled test function in position space\n",
    "f1 = f1_x(a=1.25, x=x)\n",
    "plt_fftarray(f1)"
   ]
  },
  {
   "cell_type": "markdown",
   "metadata": {},
   "source": [
    "### Comparison: analytic vs numeric\n",
    "Now we compare the analytical with the numerical derivative that was obtained via the FFT:"
   ]
  },
  {
   "cell_type": "code",
   "execution_count": null,
   "metadata": {},
   "outputs": [],
   "source": [
    "def derivative_pos(dim: FFTDimension, fun: FFTArray, order: int) -> FFTArray:\n",
    "    \"\"\"Takes the derivative of order `order along Dimension `dim` of the\n",
    "    FFTArray `fun` in position space.\n",
    "    \"\"\"\n",
    "    kernel = (1.j*2*np.pi*dim.fft_array(space=\"freq\"))**order\n",
    "    return (kernel*fun.into(space=\"freq\")).into(space=\"pos\")\n",
    "\n",
    "# first order derivative\n",
    "d1_analytic = f1_x_d1(a=1.25, x=x) # analytical solution\n",
    "d1_numeric = derivative_pos(x_dim, f1, 1) # numerical result\n",
    "plt_complex_comparison(\"First Order Derivative\", d1_analytic, \"analytic\", d1_numeric, \"numeric\")\n",
    "np.testing.assert_array_almost_equal(np.array(d1_numeric.into(space=\"pos\")), np.array(d1_analytic.into(space=\"pos\")), decimal=11)\n",
    "\n",
    "# second order derivative\n",
    "d2_analytic = f1_x_d2(a=1.25, x=x) # analytical solution\n",
    "d2_numeric = derivative_pos(x_dim, f1, 2) # numerical result\n",
    "plt_complex_comparison(\"Second Order Derivative\", d2_analytic, \"analytic\", d2_numeric, \"numeric\")\n",
    "np.testing.assert_array_almost_equal(np.array(d2_analytic.into(space=\"pos\")), np.array(d2_numeric.into(space=\"pos\")), decimal=9)"
   ]
  },
  {
   "cell_type": "code",
   "execution_count": null,
   "metadata": {},
   "outputs": [],
   "source": []
  }
 ],
 "metadata": {
  "kernelspec": {
   "display_name": "dev",
   "language": "python",
   "name": "python3"
  },
  "language_info": {
   "codemirror_mode": {
    "name": "ipython",
    "version": 3
   },
   "file_extension": ".py",
   "mimetype": "text/x-python",
   "name": "python",
   "nbconvert_exporter": "python",
   "pygments_lexer": "ipython3",
   "version": "3.10.0"
  }
 },
 "nbformat": 4,
 "nbformat_minor": 2
}
