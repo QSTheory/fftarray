{
 "cells": [
  {
   "cell_type": "markdown",
   "metadata": {},
   "source": [
    "# Bragg beam splitter"
   ]
  },
  {
   "cell_type": "markdown",
   "metadata": {},
   "source": [
    "## Physics\n",
    "\n",
    "The Bragg beam splitter splits the wave function into two momentum states (but same internal state). \n",
    "Here, the main physics is sketched. \n",
    "The interested reader is referred to [the textbook by Grynberg, Aspect and Fabre](https://www.cambridge.org/core/books/introduction-to-quantum-optics/F45DCE785DC8226D4156EC15CAD5FA9A). \n",
    "\n",
    "The formalism describing the Bragg atom-light interaction is based on a semi-classical model. \n",
    "The atoms are described quantum mechanically via a wave function, while the light is described classically (its high intensity ensures a substantial photon presence at all times).\n",
    "The Hamiltonian of the system is:\n",
    "$$\n",
    "    \\hat H = \\frac{\\hat p^2}{2m} - \\hat{\\vec D} \\vec E_L (\\vec r, t)\n",
    "$$\n",
    "where $\\hat p$ is the momentum operator, $\\hat{\\vec D}$ is the dipole operator and $\\vec E_L$ is the electric field. \n",
    "\n",
    "The electric field can be described by two counterpropagating laser beams with frequencies $\\omega_L+\\omega_r$ (drives the transition $| g,0 \\rangle \\rightarrow | e, \\hbar k_L \\rangle$) and $\\omega_r$ (drives the transition $| e, \\hbar k_L \\rangle \\rightarrow | g, 2\\hbar k_L\\rangle$). \n",
    "Note that $\\frac{(2\\hbar k_L)^2}{2m} = \\hbar \\omega_r$.\n",
    "It should be noted that both lasers are detuned by $\\Delta$, such that the transition $|g,0 \\rangle \\rightarrow | e, \\hbar k_L \\rangle$ is unlikely to happen without the stimulated emission directly after it. \n",
    "\n",
    "Here, a one dimensional wave function $\\Psi (x)$ is considered. \n",
    "Adiabatic elimination of the excited state leads to\n",
    "$$\n",
    "\\hat H = -\\frac{\\hbar^2}{2m}\\nabla^2 + 2 \\hbar \\Omega \\cos ^2 \\left( k_L x - \\frac{\\omega_r}{2} t \\right)\n",
    "$$\n",
    "where $\\Omega$ is the effective Rabi frequency. \n",
    "$\\Omega$ is determined by the laser properties and has typically a Gaussian temporal profile to ensure good velocity selectivity. \n",
    "If the atoms are freely falling, an acceleration term $\\frac{1}{2}a_\\text{laser}t^2$ is added to the laser phase to ensure that the laser beams stay resonant to the falling atoms. \n",
    "Also common is an additional constant phase shift $\\Phi_0$.\n",
    "\n",
    "After the atom-light interaction, the atom is left in a superposition of states $|g,0\\rangle$ and $|g,2\\hbar k_L\\rangle$, and typically higher orders like $|g,-2\\hbar k_L\\rangle$ and $|g,4\\hbar k_L\\rangle$ [[Siemß 2020](https://link.aps.org/doi/10.1103/PhysRevA.102.033709)]. \n",
    "Idealized, this sequence applies a momentum transfer of $2\\hbar k_L$ to the atom with a $50\\%$ chance.\n"
   ]
  },
  {
   "cell_type": "markdown",
   "metadata": {},
   "source": [
    "## Implementation\n",
    "This example illustrates the implementation of propagating a wave function through a Bragg beam splitter.\n",
    "We propagate a wave function (described by an `fa.Array`) under the influence of the time-dependent Bragg beam splitter potential."
   ]
  },
  {
   "cell_type": "code",
   "execution_count": null,
   "metadata": {},
   "outputs": [],
   "source": [
    "from typing import Tuple, Dict, Any\n",
    "import numpy as np\n",
    "import jax\n",
    "import jax.numpy as jnp\n",
    "from bokeh.io import output_notebook\n",
    "\n",
    "import fftarray as fa\n",
    "from helpers import plt_array, plt_array_values_space_time\n",
    "\n",
    "# setup bokeh in jupyter notebook\n",
    "output_notebook()\n",
    "\n",
    "# setup jax\n",
    "jax.config.update(\"jax_enable_x64\", True)\n",
    "fa.set_default_xp(jnp)\n",
    "fa.jax_register_pytree_nodes()"
   ]
  },
  {
   "cell_type": "markdown",
   "metadata": {},
   "source": [
    "### Initialize global constants"
   ]
  },
  {
   "cell_type": "code",
   "execution_count": 2,
   "metadata": {},
   "outputs": [],
   "source": [
    "from scipy.constants import hbar, pi, physical_constants\n",
    "# angular frequency used to initialize the ground state (of quantum harmonic\n",
    "# oscillator)\n",
    "omega_x = 2*pi*10 # Hz\n",
    "# laser pulse parameters\n",
    "# Rabi frequency. This specific value was found as a binary search to\n",
    "# optimize a 50/50 split of the two momentum classes for this specific beam\n",
    "# splitter duration and pulse form.\n",
    "rabi_frequency = 25144.285917282104 # Hz\n",
    "phi_0 = 0. # phase jump\n",
    "bragg_acc = 0. # bragg acceleration\n",
    "sigma_bs = 25e-6 # temporal pulse width (s)\n",
    "\n",
    "# Rb87 properties\n",
    "m = 86.909 * physical_constants[\"atomic mass constant\"][0] # mass in kg\n",
    "lambda_L = 780 * 1e-9 # wavelength in m\n",
    "k_L = 2 * pi / lambda_L # wave number in 1/m\n",
    "hbark: float = hbar * k_L # momentum transfer\n",
    "hbarkv: float = hbark/m # recoil velocity\n",
    "w_r = 2 * hbarkv * k_L # recoil frequency in rad/s"
   ]
  },
  {
   "attachments": {},
   "cell_type": "markdown",
   "metadata": {},
   "source": [
    "#### Define the time grid\n",
    "In order to simulate the time evolution of the wave function, we need to discretize \n",
    "time into intervals of length $\\Delta t$ in between the potential is\n",
    "assumed constant. Then, for each time step, we can apply the time evolution \n",
    "operator as \n",
    "$|\\Psi(t+\\Delta t)\\rangle = e^{-i \\hat H \\Delta t /\\hbar}|\\Psi(t)\\rangle$ \n",
    "using the split step method.\n",
    "\n",
    "Here, we choose to sample $4\\sigma_\\mathrm{bs}$ of the Gaussian temporal profile\n",
    "of the Bragg beam splitter potential with Gaussian width $\\sigma_\\mathrm{bs}$ \n",
    "with a step size of $\\Delta t = 1$ µs. Additionally, we let the wave function \n",
    "freely propagate for $25$ ms with $\\Delta t = 50$ µs after applying the beam \n",
    "potential to illustrate the separation of both momentum states in position \n",
    "space.\n",
    "\n",
    "```text\n",
    " laser start      intensity peak        laser end            simulation end\n",
    "------|-----------------|-------------------|----------------------|-----> time\n",
    "      |------------ 4 sigma_bs -------------|-- free propagation --|\n",
    "```"
   ]
  },
  {
   "cell_type": "code",
   "execution_count": 3,
   "metadata": {},
   "outputs": [],
   "source": [
    "# define how many sigmas of the gauss to sample in each direction before\n",
    "# reaching zero intensity:\n",
    "sampling_range_mult = 4. # * sigma_bs\n",
    "dt_bs = 1e-6 # time step size\n",
    "# total number of pulse grid steps = gauss_width * scaling_factor / step_size\n",
    "steps_limit = int(round(sigma_bs * sampling_range_mult / dt_bs))\n",
    "t_offset = steps_limit*dt_bs\n",
    "nt_bs = 2*steps_limit # number of time steps for beam splitter\n",
    "dt_free = 5e-5 # defines time step size for free propagation\n",
    "nt_free = 50 # number of time steps for free propagation\n",
    "# time lists\n",
    "t_list_bs: Any = np.arange(nt_bs)*dt_bs\n",
    "t_list_free = t_list_bs[-1]+np.arange(1,nt_free+1)*dt_free\n",
    "t_list = np.concatenate((t_list_bs, t_list_free))"
   ]
  },
  {
   "cell_type": "markdown",
   "metadata": {},
   "source": [
    "### Initialize the wavefunction\n",
    "We initialize the wavefunction as the groundstate of a quantum harmonic oscillator with frequency $\\omega_\\mathrm{QHO} = 2\\pi\\times 10$ Hz."
   ]
  },
  {
   "cell_type": "code",
   "execution_count": null,
   "metadata": {},
   "outputs": [],
   "source": [
    "# coordinate grid\n",
    "x_dim: fa.Dimension = fa.dim_from_constraints(\n",
    "    name = \"x\",\n",
    "    pos_min = -50e-6,\n",
    "    pos_max = 50e-6,\n",
    "    freq_middle = 0.,\n",
    "    freq_extent = 32*k_L,\n",
    "    loose_params = [\"freq_extent\"],\n",
    "    dynamically_traced_coords=False\n",
    ")\n",
    "\n",
    "# initialize an Array as harmonic oscillator groundstate\n",
    "x_coords: fa.Array = fa.coords_from_dim(x_dim, \"pos\")\n",
    "psi_init: fa.Array = (m * omega_x / (pi*hbar))**(1./4.) * fa.exp(-(m * omega_x * (x_coords**2.)/(2.*hbar)))\n",
    "psi_init = psi_init / fa.integrate(fa.abs(psi_init)**2)\n",
    "plt_array(psi_init)"
   ]
  },
  {
   "attachments": {},
   "cell_type": "markdown",
   "metadata": {},
   "source": [
    "### Define the potential\n",
    "Now, we implement the external potential\n",
    "$$\n",
    "    V = 2 \\hbar \\Omega(t) \\cos ^2 \\left( k_L x - \\frac{\\omega_r}{2} t \\right)\n",
    "$$\n",
    "where the time dependent Rabi frequency is defined by\n",
    "$$\n",
    "    \\Omega(t) = \\Omega_0 \\exp(-t^2/(2\\sigma_\\mathrm{bs}^2)).\n",
    "$$"
   ]
  },
  {
   "cell_type": "code",
   "execution_count": 5,
   "metadata": {},
   "outputs": [],
   "source": [
    "from scipy.constants import hbar\n",
    "\n",
    "def V(ramp: float, t: float) -> fa.Array:\n",
    "    \"\"\"Bragg pulse potential.\n",
    "\n",
    "    Parameters\n",
    "    ----------\n",
    "    ramp : float\n",
    "        The pulse ramp (scaling the rabi frequency).\n",
    "    t : float\n",
    "        The global lab time.\n",
    "\n",
    "    Returns\n",
    "    -------\n",
    "    fa.Array\n",
    "        The potential at time t.\n",
    "    \"\"\"\n",
    "    return rabi_frequency * ramp * 2. * hbar * fa.cos(\n",
    "        k_L * (x_coords - 0.5 * bragg_acc * t**2)\n",
    "        - 0.5 * w_r * t\n",
    "        + phi_0/2.\n",
    "    )**2"
   ]
  },
  {
   "attachments": {},
   "cell_type": "markdown",
   "metadata": {},
   "source": [
    "Now, we plot the potential at peak intensity (`t=t_offset`)."
   ]
  },
  {
   "cell_type": "code",
   "execution_count": null,
   "metadata": {},
   "outputs": [],
   "source": [
    "from bokeh.plotting import figure, show\n",
    "# plot the energy trend during the imaginary time evolution\n",
    "plt = figure(\n",
    "    width=800, height=400, min_border=50,\n",
    "    title=\"The potential versus the wavefunction's position grid\",\n",
    "    x_axis_label=\"Iteration step\",\n",
    "    y_axis_label=\"Potential/hbar [Hz]\"\n",
    ")\n",
    "plot = plt.line(\n",
    "    x_dim.np_array(space=\"pos\"), V(ramp=1, t=t_offset).values(\"pos\")/hbar\n",
    ")\n",
    "show(plt)"
   ]
  },
  {
   "cell_type": "markdown",
   "metadata": {},
   "source": [
    "### Propagate the wavefunction\n",
    "Now, we implement the iterative procedure of evolving the wavefunction in time according to the previously defined potential and the subsequent free propagation. \n",
    "For this, we need to define the step function that we will iterate via the `jax.lax.scan` function."
   ]
  },
  {
   "cell_type": "markdown",
   "metadata": {},
   "source": [
    "#### Define the step functions\n",
    "\n",
    "<div class=\"alert alert-block alert-info\">\n",
    "<b>Note:</b> We need to import jax.numpy to calculate the temporal ramp of the \n",
    "Bragg beam potential in order to use it in jax.lax.scan. The potential is \n",
    "defined using numpy as this is internally handled via jax.numpy when the \n",
    "JaxTensorLib was specified in the initialization of the fa.Array.\n",
    "</div>"
   ]
  },
  {
   "cell_type": "code",
   "execution_count": null,
   "metadata": {},
   "outputs": [],
   "source": [
    "# helper function for the temporal ramp of the beam's intensity\n",
    "def gauss(t: float, sigma: float):\n",
    "    \"\"\"Evaluate a Gaussian function.\n",
    "\n",
    "\tParameters\n",
    "\t----------\n",
    "\tt : float\n",
    "\t\tTime value.\n",
    "\tsigma : float\n",
    "\t\tWidth.\n",
    "\n",
    "\tReturns\n",
    "\t-------\n",
    "\tfloat\n",
    "\t\tThe Gaussian function at t with width sigma.\n",
    "    \"\"\"\n",
    "    return jnp.exp(-0.5 * (t / sigma)**2)\n",
    "\n",
    "# compute the boundary value of the gauss to ensure that the potential is zero\n",
    "# when we start and stop applying of the potential\n",
    "gauss_offset = gauss(t = -t_offset, sigma = sigma_bs)\n",
    "\n",
    "# momentum operator squared\n",
    "k_sq = (2*pi*fa.coords_from_arr(psi_init, x_dim.name, \"freq\"))**2.\n",
    "\n",
    "def step_bs(psi: fa.Array, t: float) -> Tuple[fa.Array, Dict[str, jax.Array]]:\n",
    "    \"\"\"Step function for jax.lax.scan. Apply the Bragg beam splitter pulse.\n",
    "\n",
    "\tParameters\n",
    "\t----------\n",
    "\tpsi : fa.Array\n",
    "\t\tThe wavefunction.\n",
    "\tt : float\n",
    "\t\tThe time.\n",
    "\n",
    "\tReturns\n",
    "\t-------\n",
    "\tfa.Array\n",
    "\t\tThe final wavefunction.\n",
    "    \"\"\"\n",
    "    ramp = gauss(t=t-t_offset, sigma=sigma_bs) - gauss_offset\n",
    "    # Apply half kinetic propagator\n",
    "    psi = psi.into_space(\"freq\") * fa.exp((-1.j * 0.5*dt_bs * hbar / (2*m)) * k_sq)\n",
    "\n",
    "    # Apply potential propagator\n",
    "    psi = psi.into_space(\"pos\") * fa.exp((-1.j / hbar * dt_bs) * V(ramp, t))\n",
    "\n",
    "    # Apply half kinetic propagator\n",
    "    psi = psi.into_space(\"freq\") * fa.exp((-1.j * 0.5*dt_bs * hbar / (2*m)) * k_sq)\n",
    "    return psi, {\n",
    "        \"abs_pos\": fa.abs(psi.into_space(\"pos\")).values(\"pos\")**2,\n",
    "        \"abs_freq\": fa.abs(psi.into_space(\"pos\")).values(\"freq\")**2,\n",
    "    }\n",
    "\n",
    "def step_free(psi: fa.Array, t: float) -> Tuple[fa.Array, Dict[str, jax.Array]]:\n",
    "    \"\"\"Step function for jax.lax.scan. Freely propagate the wavefunction.\n",
    "\n",
    "\tParameters\n",
    "\t----------\n",
    "\tpsi : fa.Array\n",
    "\t\tThe wavefunction.\n",
    "\tt : float\n",
    "\t\tThe time.\n",
    "\n",
    "\tReturns\n",
    "\t-------\n",
    "\tfa.Array\n",
    "\t\tThe final wavefunction.\n",
    "    \"\"\"\n",
    "    psi = psi.into_space(\"freq\") * fa.exp((-1.j * dt_free * hbar / (2*m)) * k_sq)\n",
    "    return psi, {\n",
    "        \"abs_pos\": fa.abs(psi.into_space(\"pos\")).values(\"pos\")**2,\n",
    "        \"abs_freq\": fa.abs(psi.into_space(\"freq\")).values(\"freq\")**2,\n",
    "    }\n"
   ]
  },
  {
   "cell_type": "markdown",
   "metadata": {},
   "source": [
    "#### Iterating the step functions\n",
    "\n",
    "<div class=\"alert alert-block alert-warning\">\n",
    "<b>Important:</b> The input and output fa.Array of the step function for \n",
    "jax.lax.scan has to have the same attributes. This implies that the input and \n",
    "output need to be in the same space. Since split_step returns the fa.Array in \n",
    "frequency space, we also need to transform the input fa.Array into the \n",
    "frequency space before passing it to jax.lax.scan.\n",
    "</div>"
   ]
  },
  {
   "cell_type": "code",
   "execution_count": 8,
   "metadata": {},
   "outputs": [],
   "source": [
    "from jax.lax import scan\n",
    "\n",
    "# bragg beam splitter pulse\n",
    "psi_final_bs, psi_data_bs = scan(\n",
    "    f = step_bs,\n",
    "    init = psi_init.into_space(\"freq\").into_factors_applied(False), # initial wavefunction in frequency space\n",
    "    xs = t_list_bs\n",
    ")\n",
    "# free propagation\n",
    "psi_final_free, psi_data_free = scan(\n",
    "    f = step_free,\n",
    "    init = psi_final_bs.into_space(\"freq\"), # already in frequency space\n",
    "    xs = t_list_free\n",
    ")"
   ]
  },
  {
   "cell_type": "markdown",
   "metadata": {},
   "source": [
    "### Plot the final wavefunction"
   ]
  },
  {
   "cell_type": "code",
   "execution_count": null,
   "metadata": {},
   "outputs": [],
   "source": [
    "# plot the final wave function\n",
    "plt_array(psi_final_free)"
   ]
  },
  {
   "cell_type": "markdown",
   "metadata": {},
   "source": [
    "## Plot the complete time evolution"
   ]
  },
  {
   "cell_type": "code",
   "execution_count": null,
   "metadata": {},
   "outputs": [],
   "source": [
    "if nt_bs % nt_free > 0:\n",
    "    print(\"Warning: Time grid not equidistant in contour plot.\")\n",
    "psi_init_abs_pos = fa.abs(psi_init.into_space(\"pos\")).values(\"pos\")**2\n",
    "psi_init_abs_freq = fa.abs(psi_init.into_space(\"freq\")).values(\"freq\")**2\n",
    "# list of all position space values\n",
    "plt_data_psi_final_pos = np.concatenate((\n",
    "    # initial value\n",
    "    [psi_init_abs_pos],\n",
    "    # beam splitter values: take only every anim_time_step_mult'th value\n",
    "    psi_data_bs[\"abs_pos\"][::nt_bs//nt_free],\n",
    "    # free propagation values\n",
    "    psi_data_free[\"abs_pos\"]\n",
    "))\n",
    "# list of all momentum space values\n",
    "plt_data_psi_final_freq = np.concatenate((\n",
    "    # initial value\n",
    "    [psi_init_abs_freq],\n",
    "    # beam splitter values: take only every anim_time_step_mult'th value\n",
    "    psi_data_bs[\"abs_freq\"][::nt_bs//nt_free],\n",
    "    # free propagation values\n",
    "    psi_data_free[\"abs_freq\"]\n",
    "))\n",
    "plt_data_t_list = np.concatenate((\n",
    "    [0],\n",
    "    t_list_bs + dt_bs,\n",
    "    t_list_free + dt_bs\n",
    "))\n",
    "\n",
    "plt_array_values_space_time(\n",
    "    np.real(plt_data_psi_final_pos),\n",
    "    np.real(plt_data_psi_final_freq),\n",
    "    x_dim.np_array(\"pos\"),\n",
    "    x_dim.np_array(\"freq\")*lambda_L,\n",
    "    plt_data_t_list,\n",
    "    freq_unit = \"hbar k_L\"\n",
    ")"
   ]
  },
  {
   "cell_type": "code",
   "execution_count": null,
   "metadata": {},
   "outputs": [],
   "source": []
  }
 ],
 "metadata": {
  "kernelspec": {
   "display_name": "dev",
   "language": "python",
   "name": "python3"
  },
  "language_info": {
   "codemirror_mode": {
    "name": "ipython",
    "version": 3
   },
   "file_extension": ".py",
   "mimetype": "text/x-python",
   "name": "python",
   "nbconvert_exporter": "python",
   "pygments_lexer": "ipython3",
   "version": "3.13.1"
  },
  "orig_nbformat": 4
 },
 "nbformat": 4,
 "nbformat_minor": 2
}
